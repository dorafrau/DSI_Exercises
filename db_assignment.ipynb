{
 "cells": [
  {
   "cell_type": "markdown",
   "metadata": {
    "id": "bPW7lnQgygRa"
   },
   "source": [
    "Run Query: Find all the tracks whose name starts with 'All'. **How many total records there are for this query?**"
   ]
  },
  {
   "cell_type": "code",
   "execution_count": null,
   "metadata": {
    "id": "z53a0pcIyifp"
   },
   "outputs": [],
   "source": [
    "SELECT count(id)\n",
    "From tracks\n",
    "where name LIKE  'All%';"
   ]
  },
  {
   "cell_type": "markdown",
   "metadata": {
    "id": "58RIwz86yivs"
   },
   "source": [
    "Run Query: Find all the customer emails that start with \"J\" and are from gmail.com."
   ]
  },
  {
   "cell_type": "code",
   "execution_count": null,
   "metadata": {
    "id": "b16LHsVKzBKS"
   },
   "outputs": [],
   "source": [
    "SELECT email\n",
    "from customers\n",
    "where email LIKE  'j%' AND  email LIKE '%gmail.com';"
   ]
  },
  {
   "cell_type": "markdown",
   "metadata": {},
   "source": [
    "Run Query: Find the albums with 12 or more tracks."
   ]
  },
  {
   "cell_type": "code",
   "execution_count": null,
   "metadata": {},
   "outputs": [],
   "source": [
    "SELECT  albums.title, count(t.id)\n",
    "from albums\n",
    "join tracks t on albums.id = t.album_id\n",
    "group by albums.id\n",
    "having count(t.id) >= 12;"
   ]
  },
  {
   "cell_type": "markdown",
   "metadata": {
    "id": "jDxz4RSezQir",
    "pycharm": {
     "name": "#%% md\n"
    }
   },
   "source": [
    "Create a list of album titles and the unit prices for the artist \"Audioslave\". "
   ]
  },
  {
   "cell_type": "code",
   "execution_count": null,
   "metadata": {
    "pycharm": {
     "name": "#%%\n"
    }
   },
   "outputs": [],
   "source": [
    "SELECT albums.title, sum(il.unit_price)\n",
    "from albums\n",
    "join artists a on a.id = albums.artist_id join tracks t on albums.id = t.album_id \n",
    "join invoice_lines il on t.id = il.track_id\n",
    "where a.name = 'Audioslave'\n",
    "group by albums.title, il.unit_price;"
   ]
  },
  {
   "cell_type": "markdown",
   "metadata": {
    "id": "6TVnINglAGsv"
   },
   "source": [
    "Using a subquery, find the names of all the tracks for the album \"Californication\"."
   ]
  },
  {
   "cell_type": "code",
   "execution_count": null,
   "metadata": {
    "id": "dUppFfETAM9U"
   },
   "outputs": [],
   "source": [
    "Select tracks.name\n",
    "from tracks\n",
    "where   tracks.album_id =\n",
    "        (SELECT albums.id\n",
    "         from albums\n",
    "         where albums.title = 'Californication');"
   ]
  },
  {
   "cell_type": "markdown",
   "metadata": {
    "id": "vulChgqDANLU"
   },
   "source": [
    "Find the total number of invoices for each customer along with the customer's full name, city and email."
   ]
  },
  {
   "cell_type": "code",
   "execution_count": null,
   "metadata": {
    "id": "sGRBCv0lAOsq"
   },
   "outputs": [],
   "source": [
    "Select count(invoices.id), c.id , concat(c.first_name,' ', c.last_name) AS fullname , c.city, c.email\n",
    "from invoices join customers c on c.id = invoices.customer_id\n",
    "group by c.id\n",
    "order by c.id ;"
   ]
  },
  {
   "cell_type": "markdown",
   "metadata": {
    "id": "lyJ4BHyIAO2v"
   },
   "source": [
    "After running the query described above, what is the email address of the 5th person, František Wichterlová?"
   ]
  },
  {
   "cell_type": "code",
   "execution_count": null,
   "metadata": {
    "id": "5NrjVMXtARuo"
   },
   "outputs": [],
   "source": [
    "Select email\n",
    "from customers\n",
    "where id = 5;"
   ]
  },
  {
   "cell_type": "markdown",
   "metadata": {
    "id": "7goiyepjAR7T"
   },
   "source": [
    "Retrieve the track name, album, artistID, and trackID for all the albums."
   ]
  },
  {
   "cell_type": "code",
   "execution_count": null,
   "metadata": {
    "id": "9rPwWSkFATpd"
   },
   "outputs": [],
   "source": [
    "SELECT t.name AS track_name, albums.title AS album_name, a.id AS artist_id, t.id AS track_id\n",
    "from albums join tracks t on albums.id = t.album_id join artists a on a.id = albums.artist_id\n",
    "group by t.id, albums.title, a.id, t.name\n",
    "order by albums.title;"
   ]
  },
  {
   "cell_type": "markdown",
   "metadata": {
    "id": "V0CwhMAbAVqr"
   },
   "source": [
    "What is the song title of trackID 12 from the \"For Those About to Rock We Salute You\" ?"
   ]
  },
  {
   "cell_type": "code",
   "execution_count": null,
   "metadata": {
    "id": "BYzFVF9zAYhV"
   },
   "outputs": [],
   "source": [
    "SELECT t.name\n",
    "from albums join tracks t on albums.id = t.album_id\n",
    "where albums.title LIKE 'For Those About To Rock We Salute You' AND  t.id = 12;"
   ]
  },
  {
   "cell_type": "markdown",
   "metadata": {
    "id": "qiIaQQX1AYrq"
   },
   "source": [
    "Retrieve a list with the managers last name, and the last name of the employees who report to him or her. **Who are the reports for the manager named Mitchell?**"
   ]
  },
  {
   "cell_type": "code",
   "execution_count": null,
   "metadata": {
    "id": "AQZBCthEAftB"
   },
   "outputs": [],
   "source": [
    "with\n",
    "    empleey as(SELECT employees.last_name, id, reports_to\n",
    "                from employees),\n",
    "    managers as (SELECT employees.last_name, id, reports_to\n",
    "                 from employees\n",
    "                 where title LIKE '%Manager')\n",
    "SELECT  managers.last_name, empleey.last_name\n",
    "from empleey join managers on empleey.reports_to = managers.id;"
   ]
  },
  {
   "cell_type": "code",
   "execution_count": null,
   "metadata": {},
   "outputs": [],
   "source": [
    "with\n",
    "    empleey as(SELECT employees.last_name, id, reports_to\n",
    "                from employees),\n",
    "    managers as (SELECT employees.last_name, id, reports_to\n",
    "                 from employees\n",
    "                 where title LIKE '%Manager')\n",
    "SELECT  managers.last_name, empleey.last_name\n",
    "from empleey join managers on empleey.reports_to = managers.id\n",
    "where managers.last_name LIKE 'Mitchell';"
   ]
  },
  {
   "cell_type": "markdown",
   "metadata": {
    "id": "6gZBptiOAh2c"
   },
   "source": [
    "Find the name and ID of the artists who do not have albums. "
   ]
  },
  {
   "cell_type": "code",
   "execution_count": null,
   "metadata": {
    "id": "IgbisBHkAkU4"
   },
   "outputs": [],
   "source": [
    "SELECT name, artists.id\n",
    "from artists left join albums a on artists.id = a.artist_id\n",
    "where a.id IS NULL;"
   ]
  },
  {
   "cell_type": "markdown",
   "metadata": {
    "id": "lpETQyAhAkgL"
   },
   "source": [
    "Use a UNION to create a list of all the employee's and customer's first names and last names ordered by the last name in descending order. **Determine what is the last name of the 6th record** Remember to order things in descending order to be sure to get the correct answer."
   ]
  },
  {
   "cell_type": "code",
   "execution_count": null,
   "metadata": {
    "id": "zLWDnZ5AArVK"
   },
   "outputs": [],
   "source": [
    "SELECT *\n",
    "from (SELECT\n",
    "          row_number() over (ORDER BY last_name desc ) As rowNumber,\n",
    "          last_name\n",
    "          from (SELECT first_name, last_name\n",
    "               from employees\n",
    "               UNION\n",
    "               SELECT first_name, last_name from customers) as employeesUnionCustomers) as rowsNames\n",
    "where rowNumber = 6;"
   ]
  },
  {
   "cell_type": "markdown",
   "metadata": {
    "id": "E-HmEIsZArpl"
   },
   "source": [
    "See if there are any customers who have a different city listed in their billing city versus their customer city."
   ]
  },
  {
   "cell_type": "code",
   "execution_count": null,
   "metadata": {
    "id": "Bi4tcpV-AuJM"
   },
   "outputs": [],
   "source": [
    "with citiesCustomers AS(SELECT city, id\n",
    "                from customers),\n",
    "    citiesInvoices AS (SELECT billing_city, customer_id\n",
    "                       from invoices)\n",
    "SELECT *\n",
    "from citiesCustomers join citiesInvoices on citiesCustomers.id = citiesInvoices.customer_id\n",
    "where citiesCustomers.city != citiesInvoices.billing_city;\n",
    "\n",
    "#emty list -> there are no customers where city != billing_city"
   ]
  }
 ],
 "metadata": {
  "colab": {
   "collapsed_sections": [],
   "name": "Assignment-5.ipynb",
   "provenance": []
  },
  "kernelspec": {
   "display_name": "Python 3 (ipykernel)",
   "language": "python",
   "name": "python3"
  },
  "language_info": {
   "codemirror_mode": {
    "name": "ipython",
    "version": 3
   },
   "file_extension": ".py",
   "mimetype": "text/x-python",
   "name": "python",
   "nbconvert_exporter": "python",
   "pygments_lexer": "ipython3",
   "version": "3.9.12"
  }
 },
 "nbformat": 4,
 "nbformat_minor": 4
}
